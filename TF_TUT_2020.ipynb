{
  "nbformat": 4,
  "nbformat_minor": 0,
  "metadata": {
    "colab": {
      "name": "TF_TUT_2020.ipynb",
      "provenance": [],
      "toc_visible": true,
      "authorship_tag": "ABX9TyPPDQETZ0F8ax2MADaCxhDs",
      "include_colab_link": true
    },
    "kernelspec": {
      "name": "python3",
      "display_name": "Python 3"
    },
    "accelerator": "GPU"
  },
  "cells": [
    {
      "cell_type": "markdown",
      "metadata": {
        "id": "view-in-github",
        "colab_type": "text"
      },
      "source": [
        "<a href=\"https://colab.research.google.com/github/PritamChk/tensorflowlearning/blob/main/TF_TUT_2020.ipynb\" target=\"_parent\"><img src=\"https://colab.research.google.com/assets/colab-badge.svg\" alt=\"Open In Colab\"/></a>"
      ]
    },
    {
      "cell_type": "markdown",
      "metadata": {
        "id": "bXutR4lwxL4C"
      },
      "source": [
        "# Tensorflow tutorial\n",
        "---\n",
        "# Section : A"
      ]
    },
    {
      "cell_type": "code",
      "metadata": {
        "id": "UY0HWhfexE4a"
      },
      "source": [
        "import tensorflow as tf\n",
        "import os \n",
        "import numpy as np"
      ],
      "execution_count": 48,
      "outputs": []
    },
    {
      "cell_type": "markdown",
      "metadata": {
        "id": "CAsu5HVYywdm"
      },
      "source": [
        "## Set GPU\n",
        "---"
      ]
    },
    {
      "cell_type": "code",
      "metadata": {
        "id": "z4e315pgxl1H"
      },
      "source": [
        "x= tf.config.list_physical_devices('GPU')"
      ],
      "execution_count": 7,
      "outputs": []
    },
    {
      "cell_type": "code",
      "metadata": {
        "colab": {
          "base_uri": "https://localhost:8080/"
        },
        "id": "BP0dA3GXyDTL",
        "outputId": "b4a20579-189c-471c-c397-e635c2d60235"
      },
      "source": [
        "for i in x:\n",
        "  print(i)\n",
        "tf.config.experimental.set_memory_growth(x[0],True)"
      ],
      "execution_count": 9,
      "outputs": [
        {
          "output_type": "stream",
          "text": [
            "PhysicalDevice(name='/physical_device:GPU:0', device_type='GPU')\n"
          ],
          "name": "stdout"
        }
      ]
    },
    {
      "cell_type": "markdown",
      "metadata": {
        "id": "q3loo6AYxubL"
      },
      "source": [
        "## Constatnt Tensor Initialization\n",
        "---"
      ]
    },
    {
      "cell_type": "markdown",
      "metadata": {
        "id": "FCR4xjMLzWdN"
      },
      "source": [
        "### Example 1"
      ]
    },
    {
      "cell_type": "code",
      "metadata": {
        "colab": {
          "base_uri": "https://localhost:8080/"
        },
        "id": "Txo71_SgyFNV",
        "outputId": "b0a88af6-4b34-4463-dcf4-a190883d2cc4"
      },
      "source": [
        "a = tf.constant(4)\n",
        "print(a)"
      ],
      "execution_count": 11,
      "outputs": [
        {
          "output_type": "stream",
          "text": [
            "tf.Tensor(4, shape=(), dtype=int32)\n"
          ],
          "name": "stdout"
        }
      ]
    },
    {
      "cell_type": "markdown",
      "metadata": {
        "id": "x3wtmI9zzY--"
      },
      "source": [
        "### Example 2 : Shape"
      ]
    },
    {
      "cell_type": "code",
      "metadata": {
        "colab": {
          "base_uri": "https://localhost:8080/"
        },
        "id": "_lAn5zi4zOOy",
        "outputId": "fbbdb024-f139-4252-cdc0-c51725e0b064"
      },
      "source": [
        " a = tf.constant([range(1,10)],shape=(3,3))\n",
        " print(a)"
      ],
      "execution_count": 14,
      "outputs": [
        {
          "output_type": "stream",
          "text": [
            "tf.Tensor(\n",
            "[[1 2 3]\n",
            " [4 5 6]\n",
            " [7 8 9]], shape=(3, 3), dtype=int32)\n"
          ],
          "name": "stdout"
        }
      ]
    },
    {
      "cell_type": "markdown",
      "metadata": {
        "id": "RCdIwq6Azthf"
      },
      "source": [
        "### Example 3 : Datatype"
      ]
    },
    {
      "cell_type": "code",
      "metadata": {
        "colab": {
          "base_uri": "https://localhost:8080/"
        },
        "id": "TlsMdiMPzkMv",
        "outputId": "216ee348-7326-441b-a02e-9308584de5ec"
      },
      "source": [
        "a = tf.constant([range(1,10)],shape=(3,3),dtype = tf.float64)\n",
        "print(a)"
      ],
      "execution_count": 16,
      "outputs": [
        {
          "output_type": "stream",
          "text": [
            "tf.Tensor(\n",
            "[[1. 2. 3.]\n",
            " [4. 5. 6.]\n",
            " [7. 8. 9.]], shape=(3, 3), dtype=float64)\n"
          ],
          "name": "stdout"
        }
      ]
    },
    {
      "cell_type": "markdown",
      "metadata": {
        "id": "WawpGvKa0Irs"
      },
      "source": [
        "## Type Conversion\n",
        "___"
      ]
    },
    {
      "cell_type": "code",
      "metadata": {
        "colab": {
          "base_uri": "https://localhost:8080/"
        },
        "id": "ERRDLcAvz8hM",
        "outputId": "74fb2e51-80fb-4912-e464-0ddd10069050"
      },
      "source": [
        "print(f\"a ->\\n {a} \\n {type(a)}\\n\" )\n",
        "\"\"\"\n",
        "Type Casting\n",
        "----------------------------------\n",
        "\"\"\"\n",
        "b = tf.cast(a,dtype= tf.int32) \n",
        "\"\"\"------------------------------\"\"\"\n",
        "print(f\"b->\\n {b} \\n {type(b)}\\n\")"
      ],
      "execution_count": 25,
      "outputs": [
        {
          "output_type": "stream",
          "text": [
            "a ->\n",
            " [[1. 2. 3.]\n",
            " [4. 5. 6.]\n",
            " [7. 8. 9.]] \n",
            " <class 'tensorflow.python.framework.ops.EagerTensor'>\n",
            "\n",
            "b->\n",
            " [[1 2 3]\n",
            " [4 5 6]\n",
            " [7 8 9]] \n",
            " <class 'tensorflow.python.framework.ops.EagerTensor'>\n",
            "\n"
          ],
          "name": "stdout"
        }
      ]
    },
    {
      "cell_type": "markdown",
      "metadata": {
        "id": "TtxXqmFH1eYo"
      },
      "source": [
        "## Special Tensors\n",
        "---\n",
        "- ones\n",
        "- zeros\n",
        "- eye [Identity Tenor]\n",
        "- fill\n",
        "---"
      ]
    },
    {
      "cell_type": "markdown",
      "metadata": {
        "id": "Txz5QTObB9MZ"
      },
      "source": [
        "### Ones"
      ]
    },
    {
      "cell_type": "code",
      "metadata": {
        "colab": {
          "base_uri": "https://localhost:8080/"
        },
        "id": "0uql3x-M0ch8",
        "outputId": "0ec0f763-8dc8-446b-9272-e5aa6b8cf636"
      },
      "source": [
        "Ones = tf.ones(shape=(3,3))\n",
        "print(Ones)"
      ],
      "execution_count": 38,
      "outputs": [
        {
          "output_type": "stream",
          "text": [
            "tf.Tensor(\n",
            "[[1. 1. 1.]\n",
            " [1. 1. 1.]\n",
            " [1. 1. 1.]], shape=(3, 3), dtype=float32)\n"
          ],
          "name": "stdout"
        }
      ]
    },
    {
      "cell_type": "markdown",
      "metadata": {
        "id": "S-Qaqms6CEGQ"
      },
      "source": [
        "### Zeros"
      ]
    },
    {
      "cell_type": "code",
      "metadata": {
        "colab": {
          "base_uri": "https://localhost:8080/"
        },
        "id": "mKgCl_3k14Z8",
        "outputId": "e024a016-fef1-4b73-b358-89ad3cd50cb7"
      },
      "source": [
        "zeros = tf.zeros(shape=(3,3))\n",
        "print(zeros)"
      ],
      "execution_count": 39,
      "outputs": [
        {
          "output_type": "stream",
          "text": [
            "tf.Tensor(\n",
            "[[0. 0. 0.]\n",
            " [0. 0. 0.]\n",
            " [0. 0. 0.]], shape=(3, 3), dtype=float32)\n"
          ],
          "name": "stdout"
        }
      ]
    },
    {
      "cell_type": "markdown",
      "metadata": {
        "id": "uObU9xWXCJah"
      },
      "source": [
        "### Identity"
      ]
    },
    {
      "cell_type": "code",
      "metadata": {
        "colab": {
          "base_uri": "https://localhost:8080/"
        },
        "id": "6e25FvgZ2AtD",
        "outputId": "6b72e481-0da3-47ae-cd22-318444b2e14f"
      },
      "source": [
        "I = tf.eye(2 ,3)\n",
        "print(I)"
      ],
      "execution_count": 40,
      "outputs": [
        {
          "output_type": "stream",
          "text": [
            "tf.Tensor(\n",
            "[[1. 0. 0.]\n",
            " [0. 1. 0.]], shape=(2, 3), dtype=float32)\n"
          ],
          "name": "stdout"
        }
      ]
    },
    {
      "cell_type": "markdown",
      "metadata": {
        "id": "kGXgRZR1COEB"
      },
      "source": [
        "### Fill"
      ]
    },
    {
      "cell_type": "code",
      "metadata": {
        "colab": {
          "base_uri": "https://localhost:8080/"
        },
        "id": "Q7Zy5MDB2DsF",
        "outputId": "45390e49-fb6e-45a1-f761-abf9b11ced25"
      },
      "source": [
        "Fill = tf.fill(dims = (2,3),value= 4.2)\n",
        "print(Fill)"
      ],
      "execution_count": 41,
      "outputs": [
        {
          "output_type": "stream",
          "text": [
            "tf.Tensor(\n",
            "[[4.2 4.2 4.2]\n",
            " [4.2 4.2 4.2]], shape=(2, 3), dtype=float32)\n"
          ],
          "name": "stdout"
        }
      ]
    },
    {
      "cell_type": "code",
      "metadata": {
        "id": "USz2xkC9AOZV"
      },
      "source": [
        "#oneHot = tf.one_hot() #don't know much about it"
      ],
      "execution_count": 42,
      "outputs": []
    },
    {
      "cell_type": "markdown",
      "metadata": {
        "id": "1P5ax4oBBski"
      },
      "source": [
        "## Distributions in TF\n",
        "---\n",
        "- normal\n",
        "- uniform\n",
        "---"
      ]
    },
    {
      "cell_type": "markdown",
      "metadata": {
        "id": "_ubHjzpMCV5g"
      },
      "source": [
        "### 1. Normal Distribution"
      ]
    },
    {
      "cell_type": "code",
      "metadata": {
        "colab": {
          "base_uri": "https://localhost:8080/"
        },
        "id": "qLZOirsTBIvZ",
        "outputId": "6e276e53-845d-490f-db19-1f2ac467fd79"
      },
      "source": [
        "normal_dst = tf.random.normal(mean=0,stddev=1,shape=(3,3))\n",
        "print(normal_dst)"
      ],
      "execution_count": 46,
      "outputs": [
        {
          "output_type": "stream",
          "text": [
            "tf.Tensor(\n",
            "[[ 0.10508081  0.80867183  0.55365765]\n",
            " [ 0.81430423 -0.94588    -0.46193665]\n",
            " [-0.10823865  0.6129143  -0.30011275]], shape=(3, 3), dtype=float32)\n"
          ],
          "name": "stdout"
        }
      ]
    },
    {
      "cell_type": "markdown",
      "metadata": {
        "id": "4CvKHhWCDB7y"
      },
      "source": [
        "### Uniform Distribution"
      ]
    },
    {
      "cell_type": "code",
      "metadata": {
        "colab": {
          "base_uri": "https://localhost:8080/"
        },
        "id": "EZLx8gzMCjHD",
        "outputId": "a7ed6331-a2d4-4af6-9b07-6fea852c96ab"
      },
      "source": [
        "normal_dst = tf.random.uniform(minval=0,maxval=1,shape=(3,3))\n",
        "print(normal_dst)"
      ],
      "execution_count": 47,
      "outputs": [
        {
          "output_type": "stream",
          "text": [
            "tf.Tensor(\n",
            "[[0.95878065 0.00201809 0.71415114]\n",
            " [0.24132705 0.1927234  0.6156237 ]\n",
            " [0.23303294 0.3172319  0.26624167]], shape=(3, 3), dtype=float32)\n"
          ],
          "name": "stdout"
        }
      ]
    },
    {
      "cell_type": "markdown",
      "metadata": {
        "id": "KVfyPOXAEAK8"
      },
      "source": [
        "## Mathematical Operations on Tensors\n",
        "---\n",
        "- addition\n",
        "- subtraction\n",
        "- divide\n",
        "- multiply\n",
        "- dot product\n",
        "- matrics multiplication"
      ]
    },
    {
      "cell_type": "markdown",
      "metadata": {
        "id": "_rsmmtd8Ekew"
      },
      "source": [
        "### Addition"
      ]
    },
    {
      "cell_type": "code",
      "metadata": {
        "colab": {
          "base_uri": "https://localhost:8080/"
        },
        "id": "Wle4xs9IDU-8",
        "outputId": "3b35e2d4-92bd-419e-ebfb-6ec775673ff7"
      },
      "source": [
        "x = tf.fill((2,2), 5)\n",
        "y = tf.constant([range(1,5)],shape = (2,2) )\n",
        "print(f\"X -> {x}\\nY -> {y} \\n\")"
      ],
      "execution_count": 66,
      "outputs": [
        {
          "output_type": "stream",
          "text": [
            "X -> [[5 5]\n",
            " [5 5]]\n",
            "Y -> [[1 2]\n",
            " [3 4]] \n",
            "\n"
          ],
          "name": "stdout"
        }
      ]
    },
    {
      "cell_type": "code",
      "metadata": {
        "colab": {
          "base_uri": "https://localhost:8080/"
        },
        "id": "p4DxJSHgE8ev",
        "outputId": "79715798-00c9-43d2-ee43-9b7e6d557ee1"
      },
      "source": [
        "z1 = tf.add(x,y)\n",
        "print(z1)\n",
        "z2 = x+y\n",
        "print(z2) "
      ],
      "execution_count": 52,
      "outputs": [
        {
          "output_type": "stream",
          "text": [
            "tf.Tensor(\n",
            "[[ 6  7  8]\n",
            " [ 9 10 11]\n",
            " [12 13 14]], shape=(3, 3), dtype=int32)\n",
            "tf.Tensor(\n",
            "[[ 6  7  8]\n",
            " [ 9 10 11]\n",
            " [12 13 14]], shape=(3, 3), dtype=int32)\n"
          ],
          "name": "stdout"
        }
      ]
    },
    {
      "cell_type": "markdown",
      "metadata": {
        "id": "M_DzxCkiFeQO"
      },
      "source": [
        "### Subtract"
      ]
    },
    {
      "cell_type": "code",
      "metadata": {
        "colab": {
          "base_uri": "https://localhost:8080/"
        },
        "id": "eV-JekWuFMAj",
        "outputId": "49c33315-1893-4bf9-adcb-799b9e6af91c"
      },
      "source": [
        "z1 = tf.subtract(x,y)\n",
        "print(z1)\n",
        "z2 = x-y\n",
        "print(z2) "
      ],
      "execution_count": 54,
      "outputs": [
        {
          "output_type": "stream",
          "text": [
            "tf.Tensor(\n",
            "[[ 4  3  2]\n",
            " [ 1  0 -1]\n",
            " [-2 -3 -4]], shape=(3, 3), dtype=int32)\n",
            "tf.Tensor(\n",
            "[[ 4  3  2]\n",
            " [ 1  0 -1]\n",
            " [-2 -3 -4]], shape=(3, 3), dtype=int32)\n"
          ],
          "name": "stdout"
        }
      ]
    },
    {
      "cell_type": "markdown",
      "metadata": {
        "id": "gAgqa8gqFja2"
      },
      "source": [
        "### Divide"
      ]
    },
    {
      "cell_type": "code",
      "metadata": {
        "colab": {
          "base_uri": "https://localhost:8080/"
        },
        "id": "8q-nTEU8FZJi",
        "outputId": "31c76524-b787-4711-ed21-ec31e4668b2b"
      },
      "source": [
        "z1 = tf.divide(x,y)\n",
        "print(z1)\n",
        "z2 = x/y\n",
        "print(z2) "
      ],
      "execution_count": 55,
      "outputs": [
        {
          "output_type": "stream",
          "text": [
            "tf.Tensor(\n",
            "[[5.         2.5        1.66666667]\n",
            " [1.25       1.         0.83333333]\n",
            " [0.71428571 0.625      0.55555556]], shape=(3, 3), dtype=float64)\n",
            "tf.Tensor(\n",
            "[[5.         2.5        1.66666667]\n",
            " [1.25       1.         0.83333333]\n",
            " [0.71428571 0.625      0.55555556]], shape=(3, 3), dtype=float64)\n"
          ],
          "name": "stdout"
        }
      ]
    },
    {
      "cell_type": "markdown",
      "metadata": {
        "id": "Gv8SO65ZF2mb"
      },
      "source": [
        "### Multiply"
      ]
    },
    {
      "cell_type": "code",
      "metadata": {
        "colab": {
          "base_uri": "https://localhost:8080/"
        },
        "id": "j_ncg2rRFpv4",
        "outputId": "2801173d-cd30-4f03-e298-6cbf9cdf6cb2"
      },
      "source": [
        "z1 = tf.multiply(x,y)\n",
        "print(z1)\n",
        "#--------------------------\n",
        "z2 = x*y\n",
        "print(z2) "
      ],
      "execution_count": 56,
      "outputs": [
        {
          "output_type": "stream",
          "text": [
            "tf.Tensor(\n",
            "[[ 5 10 15]\n",
            " [20 25 30]\n",
            " [35 40 45]], shape=(3, 3), dtype=int32)\n",
            "tf.Tensor(\n",
            "[[ 5 10 15]\n",
            " [20 25 30]\n",
            " [35 40 45]], shape=(3, 3), dtype=int32)\n"
          ],
          "name": "stdout"
        }
      ]
    },
    {
      "cell_type": "markdown",
      "metadata": {
        "id": "QlrL1gn9GL0v"
      },
      "source": [
        "### Dot product"
      ]
    },
    {
      "cell_type": "code",
      "metadata": {
        "colab": {
          "base_uri": "https://localhost:8080/"
        },
        "id": "B_agliyVF_X9",
        "outputId": "e6dcffcd-6c9c-4453-e670-a9904a2f34c7"
      },
      "source": [
        "z1 = tf.tensordot(x,y,axes=1)\n",
        "print(z1)\n",
        "z2 = tf.tensordot(x,y,axes=2)\n",
        "print()\n",
        "print(z2)\n",
        "print()\n",
        "z0 = tf.tensordot(x,y,axes=0)\n",
        "print()\n",
        "print(z0)"
      ],
      "execution_count": 69,
      "outputs": [
        {
          "output_type": "stream",
          "text": [
            "tf.Tensor(\n",
            "[[20 30]\n",
            " [20 30]], shape=(2, 2), dtype=int32)\n",
            "\n",
            "tf.Tensor(50, shape=(), dtype=int32)\n",
            "\n",
            "\n",
            "tf.Tensor(\n",
            "[[[[ 5 10]\n",
            "   [15 20]]\n",
            "\n",
            "  [[ 5 10]\n",
            "   [15 20]]]\n",
            "\n",
            "\n",
            " [[[ 5 10]\n",
            "   [15 20]]\n",
            "\n",
            "  [[ 5 10]\n",
            "   [15 20]]]], shape=(2, 2, 2, 2), dtype=int32)\n"
          ],
          "name": "stdout"
        }
      ]
    },
    {
      "cell_type": "markdown",
      "metadata": {
        "id": "sYzn_L84o46J"
      },
      "source": [
        "### Matrix Multiplication"
      ]
    },
    {
      "cell_type": "code",
      "metadata": {
        "colab": {
          "base_uri": "https://localhost:8080/"
        },
        "id": "RKPScgnfaq_j",
        "outputId": "dae5decf-13ff-4717-ab81-856c370a2913"
      },
      "source": [
        "print(x , y)\n",
        "print(x@y)\n",
        "M = tf.matmul(x,y)\n",
        "print(M)"
      ],
      "execution_count": 88,
      "outputs": [
        {
          "output_type": "stream",
          "text": [
            "tf.Tensor(\n",
            "[[5 5]\n",
            " [5 5]], shape=(2, 2), dtype=int32) tf.Tensor(\n",
            "[[1 2]\n",
            " [3 4]], shape=(2, 2), dtype=int32)\n",
            "tf.Tensor(\n",
            "[[20 30]\n",
            " [20 30]], shape=(2, 2), dtype=int32)\n",
            "tf.Tensor(\n",
            "[[20 30]\n",
            " [20 30]], shape=(2, 2), dtype=int32)\n"
          ],
          "name": "stdout"
        }
      ]
    },
    {
      "cell_type": "markdown",
      "metadata": {
        "id": "LIf_VeEcccg-"
      },
      "source": [
        "## Reshaping Tensors\n",
        "---\n",
        "[RANK AXES SHAPE](https://youtu.be/AiyK0idr4uM)"
      ]
    },
    {
      "cell_type": "code",
      "metadata": {
        "colab": {
          "base_uri": "https://localhost:8080/"
        },
        "id": "2-uh8-FxGglQ",
        "outputId": "81c724e8-5d7d-4bbf-db10-2fc088d66554"
      },
      "source": [
        "z1.shape"
      ],
      "execution_count": 70,
      "outputs": [
        {
          "output_type": "execute_result",
          "data": {
            "text/plain": [
              "TensorShape([2, 2])"
            ]
          },
          "metadata": {
            "tags": []
          },
          "execution_count": 70
        }
      ]
    },
    {
      "cell_type": "code",
      "metadata": {
        "colab": {
          "base_uri": "https://localhost:8080/"
        },
        "id": "WRD0ExeBZhs-",
        "outputId": "952036e4-2897-4af4-de3f-ba987dae7ff7"
      },
      "source": [
        "len(z1.shape)"
      ],
      "execution_count": 72,
      "outputs": [
        {
          "output_type": "execute_result",
          "data": {
            "text/plain": [
              "2"
            ]
          },
          "metadata": {
            "tags": []
          },
          "execution_count": 72
        }
      ]
    },
    {
      "cell_type": "code",
      "metadata": {
        "colab": {
          "base_uri": "https://localhost:8080/"
        },
        "id": "cN_hTwWgZmFS",
        "outputId": "5fa85e60-b1cc-45e8-ce86-e4708f5a1eff"
      },
      "source": [
        "print(tf.reshape(z1,shape=[4,1]))\n",
        "print(tf.reshape(z1,shape=[4]))\n",
        "print(tf.reshape(z1,shape=[1,2,2]))\n",
        "#print(zk)"
      ],
      "execution_count": 85,
      "outputs": [
        {
          "output_type": "stream",
          "text": [
            "tf.Tensor(\n",
            "[[20]\n",
            " [30]\n",
            " [20]\n",
            " [30]], shape=(4, 1), dtype=int32)\n",
            "tf.Tensor([20 30 20 30], shape=(4,), dtype=int32)\n",
            "tf.Tensor(\n",
            "[[[20 30]\n",
            "  [20 30]]], shape=(1, 2, 2), dtype=int32)\n"
          ],
          "name": "stdout"
        }
      ]
    },
    {
      "cell_type": "markdown",
      "metadata": {
        "id": "416nv3LOpZns"
      },
      "source": [
        "## Tensor Transpose\n",
        "___"
      ]
    },
    {
      "cell_type": "code",
      "metadata": {
        "colab": {
          "base_uri": "https://localhost:8080/"
        },
        "id": "xTeor0-aowhm",
        "outputId": "88c8ccb9-6e9f-403f-aee8-ebd55236b13d"
      },
      "source": [
        "print(z)\n",
        "print()\n",
        "print(tf.transpose(z))"
      ],
      "execution_count": 90,
      "outputs": [
        {
          "output_type": "stream",
          "text": [
            "tf.Tensor(\n",
            "[[ 6  7  8]\n",
            " [ 9 10 11]\n",
            " [12 13 14]], shape=(3, 3), dtype=int32)\n",
            "\n",
            "tf.Tensor(\n",
            "[[ 6  9 12]\n",
            " [ 7 10 13]\n",
            " [ 8 11 14]], shape=(3, 3), dtype=int32)\n"
          ],
          "name": "stdout"
        }
      ]
    },
    {
      "cell_type": "code",
      "metadata": {
        "id": "zJ1aE-tspuOK"
      },
      "source": [
        ""
      ],
      "execution_count": null,
      "outputs": []
    }
  ]
}